{
 "cells": [
  {
   "cell_type": "code",
   "execution_count": 95,
   "metadata": {},
   "outputs": [
    {
     "data": {
      "text/plain": [
       "(('515c9b7d35e544681f000000',),\n",
       " ('resource2',),\n",
       " ('resource3',),\n",
       " ('resource4',),\n",
       " ('resource5',),\n",
       " ('resource6',),\n",
       " ('resource7',),\n",
       " ('resource8',),\n",
       " ('55e7841733e57cfb308b4567',),\n",
       " ('55e7841733e57cfb308b4567',),\n",
       " ('590bae6f33e57c13628b4567',),\n",
       " ('5915e75933e57ce97e8b4570',),\n",
       " ('5915e92233e57cce758b457d',),\n",
       " ('590bae6f33e57c13628b4567',))"
      ]
     },
     "execution_count": 95,
     "metadata": {},
     "output_type": "execute_result"
    }
   ],
   "source": [
    "result"
   ]
  },
  {
   "cell_type": "code",
   "execution_count": 97,
   "metadata": {},
   "outputs": [],
   "source": [
    "baseUrl = \"http://api.ayamel.org/api/v1/resources?_format=json&limit=100&id=\" #insert ids separated by commas"
   ]
  },
  {
   "cell_type": "code",
   "execution_count": 100,
   "metadata": {},
   "outputs": [],
   "source": [
    "newUrl = baseUrl\n",
    "\n",
    "for row in result:\n",
    "    newUrl += row[0] + \",\""
   ]
  },
  {
   "cell_type": "code",
   "execution_count": 99,
   "metadata": {},
   "outputs": [
    {
     "data": {
      "text/plain": [
       "'http://api.ayamel.org/api/v1/resources?_format=json&limit=100&id=515c9b7d35e544681f000000,resource2,resource3,resource4,resource5,resource6,resource7,resource8,55e7841733e57cfb308b4567,55e7841733e57cfb308b4567,590bae6f33e57c13628b4567,5915e75933e57ce97e8b4570,5915e92233e57cce758b457d,590bae6f33e57c13628b4567,'"
      ]
     },
     "execution_count": 99,
     "metadata": {},
     "output_type": "execute_result"
    }
   ],
   "source": [
    "newUrl"
   ]
  }
 ],
 "metadata": {
  "kernelspec": {
   "display_name": "Python 3",
   "language": "python",
   "name": "python3"
  },
  "language_info": {
   "codemirror_mode": {
    "name": "ipython",
    "version": 3
   },
   "file_extension": ".py",
   "mimetype": "text/x-python",
   "name": "python",
   "nbconvert_exporter": "python",
   "pygments_lexer": "ipython3",
   "version": "3.5.2"
  }
 },
 "nbformat": 4,
 "nbformat_minor": 2
}
