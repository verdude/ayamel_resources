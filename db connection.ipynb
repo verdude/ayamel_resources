{
 "cells": [
  {
   "cell_type": "code",
   "execution_count": 1,
   "metadata": {},
   "outputs": [],
   "source": [
    "import pymysql"
   ]
  },
  {
   "cell_type": "code",
   "execution_count": 18,
   "metadata": {},
   "outputs": [],
   "source": [
    "db = pymysql.connect(host=\"localhost\",\n",
    "                     user=\"TestGuy\",\n",
    "                     passwd=\"TestMe\",\n",
    "                     db=\"yvideodb\")"
   ]
  },
  {
   "cell_type": "code",
   "execution_count": 32,
   "metadata": {},
   "outputs": [],
   "source": [
    "with db.cursor() as cursor:\n",
    "    sql = \"SELECT * FROM content\"\n",
    "    cursor.execute(sql)\n",
    "    result = cursor.fetchall()\n",
    "    \n",
    "db.commit()"
   ]
  },
  {
   "cell_type": "code",
   "execution_count": 33,
   "metadata": {},
   "outputs": [
    {
     "data": {
      "text/plain": [
       "((1,\n",
       "  'Dreyfus by Yves Duteil',\n",
       "  'video',\n",
       "  '',\n",
       "  '515c9b7d35e544681f000000',\n",
       "  '2017-04-20T18:02:17.377-06:00',\n",
       "  2,\n",
       "  'a2427deb5a6e30d1518cca80fec67f17',\n",
       "  '',\n",
       "  0),\n",
       " (2,\n",
       "  'Resource 2',\n",
       "  'video',\n",
       "  '',\n",
       "  'resource2',\n",
       "  '2017-04-20T18:02:17.411-06:00',\n",
       "  2,\n",
       "  '7c79829710d683ff1c469043b958a017',\n",
       "  '',\n",
       "  0),\n",
       " (3,\n",
       "  'Resource 3',\n",
       "  'video',\n",
       "  '',\n",
       "  'resource3',\n",
       "  '2017-04-20T18:02:17.436-06:00',\n",
       "  2,\n",
       "  'c1d6042bd2707191d31f608f40974bdc',\n",
       "  '',\n",
       "  0),\n",
       " (4,\n",
       "  'Resource 4',\n",
       "  'video',\n",
       "  '',\n",
       "  'resource4',\n",
       "  '2017-04-20T18:02:17.460-06:00',\n",
       "  2,\n",
       "  '4e39951b152bfbc81c314af6c7d05bc7',\n",
       "  '',\n",
       "  0),\n",
       " (5,\n",
       "  'Resource 5',\n",
       "  'video',\n",
       "  '',\n",
       "  'resource5',\n",
       "  '2017-04-20T18:02:17.485-06:00',\n",
       "  2,\n",
       "  '37c4ed5fcbe36af92a7c5c2e6aeb6451',\n",
       "  '',\n",
       "  0),\n",
       " (6,\n",
       "  'Resource 6',\n",
       "  'video',\n",
       "  '',\n",
       "  'resource6',\n",
       "  '2017-04-20T18:02:17.510-06:00',\n",
       "  2,\n",
       "  'd2d00aef42f4ea4b794ea1d003966b82',\n",
       "  '',\n",
       "  0),\n",
       " (7,\n",
       "  'Resource 7',\n",
       "  'video',\n",
       "  '',\n",
       "  'resource7',\n",
       "  '2017-04-20T18:02:17.534-06:00',\n",
       "  2,\n",
       "  '0615e90357438941a4eccb3a4674ee08',\n",
       "  '',\n",
       "  0),\n",
       " (8,\n",
       "  'Resource 8',\n",
       "  'video',\n",
       "  '',\n",
       "  'resource8',\n",
       "  '2017-04-20T18:02:17.559-06:00',\n",
       "  2,\n",
       "  '7e76df95b24dc6f1893627cf8e2f9532',\n",
       "  '',\n",
       "  0),\n",
       " (9,\n",
       "  'gotye',\n",
       "  'video',\n",
       "  '',\n",
       "  '55e7841733e57cfb308b4567',\n",
       "  '2017-04-21T17:37:08.702-06:00',\n",
       "  2,\n",
       "  '2fe5cdb6429a900bbf279c9ee8a83747',\n",
       "  '',\n",
       "  0),\n",
       " (10,\n",
       "  'gotye',\n",
       "  'video',\n",
       "  '',\n",
       "  '55e7841733e57cfb308b4567',\n",
       "  '2017-04-21T17:37:08.702-06:00',\n",
       "  2,\n",
       "  '2fe5cdb6429a900bbf279c9ee8a83747',\n",
       "  '',\n",
       "  0),\n",
       " (11,\n",
       "  'CPU',\n",
       "  'video',\n",
       "  '',\n",
       "  '590bae6f33e57c13628b4567',\n",
       "  '2017-05-04T16:42:55.761-06:00',\n",
       "  4,\n",
       "  '0655368f118423410ad47aef5042a990',\n",
       "  'Cool',\n",
       "  0),\n",
       " (12,\n",
       "  'Sample',\n",
       "  'video',\n",
       "  '',\n",
       "  '5915e75933e57ce97e8b4570',\n",
       "  '2017-05-12T10:48:25.728-06:00',\n",
       "  2,\n",
       "  '3815ac3844f5d86bfaf0bba659eb6b39',\n",
       "  '',\n",
       "  0),\n",
       " (13,\n",
       "  'stuff',\n",
       "  'video',\n",
       "  '',\n",
       "  '5915e92233e57cce758b457d',\n",
       "  '2017-05-12T10:56:02.915-06:00',\n",
       "  2,\n",
       "  'dfe32123990b5effe5244652b4074df3',\n",
       "  '',\n",
       "  0),\n",
       " (14,\n",
       "  'CPU',\n",
       "  'video',\n",
       "  '',\n",
       "  '590bae6f33e57c13628b4567',\n",
       "  '2017-05-04T16:42:55.761-06:00',\n",
       "  4,\n",
       "  '0655368f118423410ad47aef5042a990',\n",
       "  'Cool',\n",
       "  0))"
      ]
     },
     "execution_count": 33,
     "metadata": {},
     "output_type": "execute_result"
    }
   ],
   "source": [
    "result"
   ]
  },
  {
   "cell_type": "code",
   "execution_count": null,
   "metadata": {},
   "outputs": [],
   "source": [
    "db.close()"
   ]
  },
  {
   "cell_type": "code",
   "execution_count": 34,
   "metadata": {},
   "outputs": [],
   "source": [
    "request = \"/api/v1/resources\""
   ]
  },
  {
   "cell_type": "code",
   "execution_count": 40,
   "metadata": {},
   "outputs": [],
   "source": [
    "testUrl = \"http://api.ayamel.org/api/v1/resources?_format=json&limit=100&id=590bae6f33e57c13628b4567,5915e92233e57cce758b457d\""
   ]
  },
  {
   "cell_type": "code",
   "execution_count": null,
   "metadata": {},
   "outputs": [],
   "source": []
  }
 ],
 "metadata": {
  "kernelspec": {
   "display_name": "Python 3",
   "language": "python",
   "name": "python3"
  },
  "language_info": {
   "codemirror_mode": {
    "name": "ipython",
    "version": 3
   },
   "file_extension": ".py",
   "mimetype": "text/x-python",
   "name": "python",
   "nbconvert_exporter": "python",
   "pygments_lexer": "ipython3",
   "version": "3.5.2"
  }
 },
 "nbformat": 4,
 "nbformat_minor": 2
}
