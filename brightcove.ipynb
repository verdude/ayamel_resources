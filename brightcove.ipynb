{
 "cells": [
  {
   "cell_type": "code",
   "execution_count": 1,
   "metadata": {},
   "outputs": [],
   "source": [
    "import json, requests, threading\n",
    "import getpass\n",
    "from bs4 import BeautifulSoup\n",
    "from Requester import Requester"
   ]
  },
  {
   "cell_type": "markdown",
   "metadata": {},
   "source": [
    "### Get Password"
   ]
  },
  {
   "cell_type": "code",
   "execution_count": 2,
   "metadata": {},
   "outputs": [
    {
     "name": "stdout",
     "output_type": "stream",
     "text": [
      "Enter Password Plis: ········\n"
     ]
    }
   ],
   "source": [
    "password = getpass.getpass(prompt=\"Enter Password Plis: \")"
   ]
  },
  {
   "cell_type": "markdown",
   "metadata": {},
   "source": [
    "### Create Session"
   ]
  },
  {
   "cell_type": "code",
   "execution_count": 3,
   "metadata": {
    "scrolled": false
   },
   "outputs": [],
   "source": [
    "session = requests.Session()\n",
    "response = session.post(\"https://ayamel.byu.edu/auth/password\", {\"username\":\"admin\", \"password\":password}, allow_redirects=False)\n",
    "response = session.get(\"https://ayamel.byu.edu/admin/content\")\n",
    "session.close()"
   ]
  },
  {
   "cell_type": "markdown",
   "metadata": {},
   "source": [
    "### Extract Data from Content (html)"
   ]
  },
  {
   "cell_type": "code",
   "execution_count": 4,
   "metadata": {},
   "outputs": [],
   "source": [
    "class Content:\n",
    "    def __init__(self, resourceId, name, owner, lang, content_type):\n",
    "        self.resourceId = resourceId\n",
    "        self.name = name\n",
    "        self.owner = owner\n",
    "        self.lang = lang\n",
    "        self.content_type = content_type\n",
    "\n",
    "def extract(row):\n",
    "    fields = row.find_all('td')\n",
    "    rid = fields[6].text\n",
    "    name = fields[1].text\n",
    "    owner = fields[2].text\n",
    "    lang = fields[3].text\n",
    "    content_type = fields[7].text\n",
    "    return Content(rid, name, owner, lang, content_type)"
   ]
  },
  {
   "cell_type": "code",
   "execution_count": 5,
   "metadata": {},
   "outputs": [],
   "source": [
    "soup = BeautifulSoup(response.text, \"html5lib\")\n",
    "rows = soup.find_all('tr')[1:] # get rid of the first row cause some idiots didn't use table headers\n",
    "content_list = [extract(x) for x in rows]"
   ]
  },
  {
   "cell_type": "markdown",
   "metadata": {},
   "source": [
    "### Get Resources"
   ]
  },
  {
   "cell_type": "code",
   "execution_count": 6,
   "metadata": {},
   "outputs": [],
   "source": [
    "from Requester import CONTENT_OBJS\n",
    "from Requester import RESOURCE_OBJS"
   ]
  },
  {
   "cell_type": "code",
   "execution_count": 7,
   "metadata": {},
   "outputs": [],
   "source": [
    "NUM_THREADS = 20"
   ]
  },
  {
   "cell_type": "code",
   "execution_count": 8,
   "metadata": {},
   "outputs": [],
   "source": [
    "def run_request_process():\n",
    "    pool = []\n",
    "    for i in range(NUM_THREADS): pool.append(Requester())\n",
    "    for t in pool: t.start()\n",
    "    for t in pool: t.join()"
   ]
  },
  {
   "cell_type": "code",
   "execution_count": 9,
   "metadata": {},
   "outputs": [],
   "source": [
    "CONTENT_OBJS.extend(content_list) #wedontcare"
   ]
  },
  {
   "cell_type": "code",
   "execution_count": 10,
   "metadata": {
    "scrolled": true
   },
   "outputs": [],
   "source": [
    "run_request_process()"
   ]
  },
  {
   "cell_type": "markdown",
   "metadata": {},
   "source": [
    "### Graphing"
   ]
  },
  {
   "cell_type": "code",
   "execution_count": 11,
   "metadata": {},
   "outputs": [],
   "source": [
    "import pandas\n",
    "import numpy as np"
   ]
  },
  {
   "cell_type": "code",
   "execution_count": 12,
   "metadata": {},
   "outputs": [
    {
     "name": "stdout",
     "output_type": "stream",
     "text": [
      "Awaiting content: {'dateAdded': '1443643111', 'relations': [], 'dateModified': '1443643111', 'client': {'name': 'BYU Demos', 'id': 'byu_demo'}, 'type': 'video', 'title': 'Test Video3', 'status': 'awaiting_content', 'id': '560c3ee733e57c500b8b4569'}\n"
     ]
    }
   ],
   "source": [
    "# mapping function, convert json to list of values\n",
    "def values(obj):\n",
    "    uri = \"\"\n",
    "    if obj[\"status\"] == \"awaiting_content\":\n",
    "        print(\"Awaiting content: %s\" % str(obj))\n",
    "        return [\"\", \"\", \"\", \"\", \"\", \"\", \"\"]\n",
    "    \n",
    "    files = obj[\"content\"][\"files\"][0]\n",
    "    if \"streamUri\" in files.keys():\n",
    "        uri = files[\"streamUri\"]\n",
    "        \n",
    "    return [obj[\"id\"], obj[\"title\"], obj[\"type\"], obj[\"dateAdded\"],\n",
    "            obj[\"dateModified\"], uri, obj[\"content\"][\"files\"][0][\"mimeType\"]]\n",
    "\n",
    "headers = [\"id\", \"title\", \"type\", \"dateAdded\", \"dateModified\", \"streamUri\", \"mimeType\"]\n",
    "pandas_rows = [ values(o) for o in RESOURCE_OBJS]"
   ]
  },
  {
   "cell_type": "code",
   "execution_count": 13,
   "metadata": {},
   "outputs": [],
   "source": [
    "data = np.array(pandas_rows)"
   ]
  },
  {
   "cell_type": "code",
   "execution_count": 14,
   "metadata": {},
   "outputs": [],
   "source": [
    "all_data = pandas.DataFrame(data=data, columns=headers)"
   ]
  },
  {
   "cell_type": "code",
   "execution_count": 29,
   "metadata": {
    "scrolled": true
   },
   "outputs": [
    {
     "ename": "AttributeError",
     "evalue": "'set' object has no attribute 'str'",
     "output_type": "error",
     "traceback": [
      "\u001b[0;31m---------------------------------------------------------------------------\u001b[0m",
      "\u001b[0;31mAttributeError\u001b[0m                            Traceback (most recent call last)",
      "\u001b[0;32m<ipython-input-29-9a9328e5e04c>\u001b[0m in \u001b[0;36m<module>\u001b[0;34m()\u001b[0m\n\u001b[1;32m      2\u001b[0m     \u001b[0;32mreturn\u001b[0m \u001b[0mall_data\u001b[0m\u001b[0;34m.\u001b[0m\u001b[0mloc\u001b[0m\u001b[0;34m[\u001b[0m\u001b[0mset\u001b[0m\u001b[0;34m(\u001b[0m\u001b[0mall_data\u001b[0m\u001b[0;34m[\u001b[0m\u001b[0mtupl\u001b[0m\u001b[0;34m[\u001b[0m\u001b[0;36m0\u001b[0m\u001b[0;34m]\u001b[0m\u001b[0;34m]\u001b[0m\u001b[0;34m)\u001b[0m\u001b[0;34m.\u001b[0m\u001b[0mstr\u001b[0m\u001b[0;34m.\u001b[0m\u001b[0mcontains\u001b[0m\u001b[0;34m(\u001b[0m\u001b[0mtupl\u001b[0m\u001b[0;34m[\u001b[0m\u001b[0;36m1\u001b[0m\u001b[0;34m]\u001b[0m\u001b[0;34m)\u001b[0m\u001b[0;34m]\u001b[0m\u001b[0;34m\u001b[0m\u001b[0m\n\u001b[1;32m      3\u001b[0m \u001b[0;34m\u001b[0m\u001b[0m\n\u001b[0;32m----> 4\u001b[0;31m \u001b[0mgetRowsContainingString\u001b[0m\u001b[0;34m(\u001b[0m\u001b[0;34m(\u001b[0m\u001b[0;34m\"mimeType\"\u001b[0m\u001b[0;34m,\u001b[0m \u001b[0;34m\"brightcove\"\u001b[0m\u001b[0;34m)\u001b[0m\u001b[0;34m)\u001b[0m\u001b[0;34m\u001b[0m\u001b[0m\n\u001b[0m",
      "\u001b[0;32m<ipython-input-29-9a9328e5e04c>\u001b[0m in \u001b[0;36mgetRowsContainingString\u001b[0;34m(tupl)\u001b[0m\n\u001b[1;32m      1\u001b[0m \u001b[0;32mdef\u001b[0m \u001b[0mgetRowsContainingString\u001b[0m\u001b[0;34m(\u001b[0m\u001b[0mtupl\u001b[0m\u001b[0;34m)\u001b[0m\u001b[0;34m:\u001b[0m\u001b[0;34m\u001b[0m\u001b[0m\n\u001b[0;32m----> 2\u001b[0;31m     \u001b[0;32mreturn\u001b[0m \u001b[0mall_data\u001b[0m\u001b[0;34m.\u001b[0m\u001b[0mloc\u001b[0m\u001b[0;34m[\u001b[0m\u001b[0mset\u001b[0m\u001b[0;34m(\u001b[0m\u001b[0mall_data\u001b[0m\u001b[0;34m[\u001b[0m\u001b[0mtupl\u001b[0m\u001b[0;34m[\u001b[0m\u001b[0;36m0\u001b[0m\u001b[0;34m]\u001b[0m\u001b[0;34m]\u001b[0m\u001b[0;34m)\u001b[0m\u001b[0;34m.\u001b[0m\u001b[0mstr\u001b[0m\u001b[0;34m.\u001b[0m\u001b[0mcontains\u001b[0m\u001b[0;34m(\u001b[0m\u001b[0mtupl\u001b[0m\u001b[0;34m[\u001b[0m\u001b[0;36m1\u001b[0m\u001b[0;34m]\u001b[0m\u001b[0;34m)\u001b[0m\u001b[0;34m]\u001b[0m\u001b[0;34m\u001b[0m\u001b[0m\n\u001b[0m\u001b[1;32m      3\u001b[0m \u001b[0;34m\u001b[0m\u001b[0m\n\u001b[1;32m      4\u001b[0m \u001b[0mgetRowsContainingString\u001b[0m\u001b[0;34m(\u001b[0m\u001b[0;34m(\u001b[0m\u001b[0;34m\"mimeType\"\u001b[0m\u001b[0;34m,\u001b[0m \u001b[0;34m\"brightcove\"\u001b[0m\u001b[0;34m)\u001b[0m\u001b[0;34m)\u001b[0m\u001b[0;34m\u001b[0m\u001b[0m\n",
      "\u001b[0;31mAttributeError\u001b[0m: 'set' object has no attribute 'str'"
     ]
    }
   ],
   "source": [
    "def getRowsContainingString(tupl):\n",
    "    return all_data.loc[all_data[tupl[0]].str.contains(tupl[1])][tupl[0]]\n",
    "                            \n",
    "getRowsContainingString((\"mimeType\", \"brightcove\"))"
   ]
  },
  {
   "cell_type": "code",
   "execution_count": 21,
   "metadata": {},
   "outputs": [],
   "source": [
    "all_data.to_csv(\"all_ayamel_resources.csv\", sep=\",\", encoding=\"utf-8\")"
   ]
  }
 ],
 "metadata": {
  "kernelspec": {
   "display_name": "Python 2",
   "language": "python",
   "name": "python2"
  },
  "language_info": {
   "codemirror_mode": {
    "name": "ipython",
    "version": 2
   },
   "file_extension": ".py",
   "mimetype": "text/x-python",
   "name": "python",
   "nbconvert_exporter": "python",
   "pygments_lexer": "ipython2",
   "version": "2.7.12"
  }
 },
 "nbformat": 4,
 "nbformat_minor": 2
}
