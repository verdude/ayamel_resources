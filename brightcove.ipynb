{
 "cells": [
  {
   "cell_type": "code",
   "execution_count": 1,
   "metadata": {},
   "outputs": [],
   "source": [
    "import json, requests, threading\n",
    "import getpass\n",
    "from bs4 import BeautifulSoup\n",
    "from Requester import Requester"
   ]
  },
  {
   "cell_type": "markdown",
   "metadata": {},
   "source": [
    "### Get Password"
   ]
  },
  {
   "cell_type": "code",
   "execution_count": null,
   "metadata": {},
   "outputs": [],
   "source": [
    "password = getpass.getpass(prompt=\"Enter Password Plis: \")"
   ]
  },
  {
   "cell_type": "markdown",
   "metadata": {},
   "source": [
    "### Create Session"
   ]
  },
  {
   "cell_type": "code",
   "execution_count": null,
   "metadata": {
    "scrolled": false
   },
   "outputs": [],
   "source": [
    "session = requests.Session()\n",
    "response = session.post(\"https://ayamel.byu.edu/auth/password\", {\"username\":\"admin\", \"password\":password}, allow_redirects=False)\n",
    "print(session.cookies.items())\n",
    "response = session.get(\"https://ayamel.byu.edu/admin/content\")\n",
    "session.close()"
   ]
  },
  {
   "cell_type": "markdown",
   "metadata": {},
   "source": [
    "### Extract Data from Content (html)"
   ]
  },
  {
   "cell_type": "code",
   "execution_count": null,
   "metadata": {},
   "outputs": [],
   "source": [
    "class Content:\n",
    "    def __init__(self, resourceId, name, owner, lang, content_type):\n",
    "        self.resourceId = resourceId\n",
    "        self.name = name\n",
    "        self.owner = owner\n",
    "        self.lang = lang\n",
    "        self.content_type = content_type\n",
    "\n",
    "def extract(row):\n",
    "    fields = row.find_all('td')\n",
    "    rid = fields[6].text\n",
    "    name = fields[1].text\n",
    "    owner = fields[2].text\n",
    "    lang = fields[3].text\n",
    "    content_type = fields[7].text\n",
    "    return Content(rid, name, owner, lang, content_type)"
   ]
  },
  {
   "cell_type": "code",
   "execution_count": null,
   "metadata": {},
   "outputs": [],
   "source": [
    "soup = BeautifulSoup(response.text, \"html5lib\")\n",
    "rows = soup.find_all('tr')[1:] # get rid of the first row cause some idiots didn't use table headers\n",
    "content_list = [extract(x) for x in rows]"
   ]
  },
  {
   "cell_type": "markdown",
   "metadata": {},
   "source": [
    "### Get Resources"
   ]
  },
  {
   "cell_type": "code",
   "execution_count": null,
   "metadata": {},
   "outputs": [],
   "source": [
    "from Requester import CONTENT_OBJS\n",
    "from Requester import RESOURCE_OBJS"
   ]
  },
  {
   "cell_type": "code",
   "execution_count": null,
   "metadata": {},
   "outputs": [],
   "source": [
    "NUM_THREADS = 20"
   ]
  },
  {
   "cell_type": "code",
   "execution_count": null,
   "metadata": {},
   "outputs": [],
   "source": [
    "def run_request_process():\n",
    "    pool = []\n",
    "    for i in range(NUM_THREADS): pool.append(Requester())\n",
    "    for t in pool: t.start()\n",
    "    for t in pool: t.join()"
   ]
  },
  {
   "cell_type": "code",
   "execution_count": null,
   "metadata": {},
   "outputs": [],
   "source": [
    "CONTENT_OBJS.extend(content_list) #wedontcare"
   ]
  },
  {
   "cell_type": "code",
   "execution_count": null,
   "metadata": {
    "scrolled": true
   },
   "outputs": [],
   "source": [
    "run_request_process()"
   ]
  },
  {
   "cell_type": "code",
   "execution_count": null,
   "metadata": {},
   "outputs": [],
   "source": [
    "RESOURCE_OBJS"
   ]
  }
 ],
 "metadata": {
  "kernelspec": {
   "display_name": "Python 3",
   "language": "python",
   "name": "python3"
  },
  "language_info": {
   "codemirror_mode": {
    "name": "ipython",
    "version": 3
   },
   "file_extension": ".py",
   "mimetype": "text/x-python",
   "name": "python",
   "nbconvert_exporter": "python",
   "pygments_lexer": "ipython3",
   "version": "3.5.2"
  }
 },
 "nbformat": 4,
 "nbformat_minor": 2
}
